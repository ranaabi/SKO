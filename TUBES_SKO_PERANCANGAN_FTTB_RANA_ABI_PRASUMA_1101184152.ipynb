{
  "nbformat": 4,
  "nbformat_minor": 0,
  "metadata": {
    "colab": {
      "name": "TUBES_SKO_PERANCANGAN_FTTB_RANA ABI PRASUMA_1101184152.ipynb",
      "provenance": [],
      "collapsed_sections": [],
      "authorship_tag": "ABX9TyO03O/gWIKD+ajUXOPqGbKD",
      "include_colab_link": true
    },
    "kernelspec": {
      "name": "python3",
      "display_name": "Python 3"
    }
  },
  "cells": [
    {
      "cell_type": "markdown",
      "metadata": {
        "id": "view-in-github",
        "colab_type": "text"
      },
      "source": [
        "<a href=\"https://colab.research.google.com/github/ranaabi/SKO/blob/main/TUBES_SKO_PERANCANGAN_FTTB_RANA_ABI_PRASUMA_1101184152.ipynb\" target=\"_parent\"><img src=\"https://colab.research.google.com/assets/colab-badge.svg\" alt=\"Open In Colab\"/></a>"
      ]
    },
    {
      "cell_type": "markdown",
      "metadata": {
        "id": "-4e5d7ufKsCc"
      },
      "source": [
        "**NAMA** : Rana Abi Prasuma\r\n",
        "\r\n",
        "**NIM** : 1101184152\r\n",
        "\r\n",
        "**KELAS** : TT - 42 - 07\r\n",
        "\r\n",
        "**Skenario** Perancangan **FTTB** pada apartement:\r\n",
        "\r\n",
        "Satu apartement berisikan 60 **lantai**, tiap lantai terdapat 10 **kamar**. Dari sentral menuju ODC kemudian ke ONU kemudian ke ODP kemudian ke Roset. Dengan rencana tersebut kami akan menggunakan 6 **konektor** dan 2 **spliter**, dengan **spliter** 1:64 dengan **redaman** 19.5 dB **untuk ONU ke ODP** dan **spliter** 1:16 dengan **redaman** 13.5 dB **untuk ODP ke Roset**. Kami menggunakan fiber jenis **G625D** dengan **panjang gelombang** 1310 nm dengan **redaman** 0.35 dB/Km. Selain itu, dengan jumlah **konektor** 6 dan **splitter** 2, maka **splicer** ada 8 buah yang memiliki **redaman** 0.1 db."
      ]
    },
    {
      "cell_type": "code",
      "metadata": {
        "id": "g2Ga5oZkL1LX"
      },
      "source": [
        "import math as m\r\n",
        "import matplotlib.pyplot as plt\r\n",
        "import numpy as np"
      ],
      "execution_count": 1,
      "outputs": []
    },
    {
      "cell_type": "code",
      "metadata": {
        "id": "PpPS7FBaNsRF"
      },
      "source": [
        "#Converter\r\n",
        "NtL = lambda x : 10 * np.log10(x)\r\n",
        "LtN = lambda x : 10**(x/10)\r\n",
        "\r\n",
        "#Parameter SNR\r\n",
        "R = 0.85 #Responsivitas (A/W)\r\n",
        "SM = 3 #Safety Margin (dB)\r\n",
        "M = -0.23 #Tambahan daya sinyal APD (dB)\r\n",
        "q = 1.6*10**-19\r\n",
        "id = 200*10**-9 #arus gelap (A)\r\n",
        "B = 8*10**9 #Bandwith (Hz)\r\n",
        "F = 1 #F(M), Faktor Gain\r\n",
        "K = 1.38*10**-23\r\n",
        "Teff = 303 #Kelvin\r\n",
        "RL = 50 #Ekuivalen Resistansi (Ohm)\r\n",
        "\r\n",
        "#Parameter Pr\r\n",
        "#jarak dari sentral ke ONU = 20 km\r\n",
        "#jarak dari ONU ke Roset = <500 m --> 5*21 = 105 m \r\n",
        "#jarak total = 20000 + 105 = 20105 m\r\n",
        "\r\n",
        "d = np.arange(0.105,20.106,1) #Jarak (km)\r\n",
        "L_fiber = 0.35 #0.35 #Loss dari fiber berdasarkan jenis G625D (dB)  \r\n",
        "N_splicer = 8 #Jumlah Splicer\r\n",
        "L_splicer = 0.1 #Loss dari splicer (db)\r\n",
        "N_connector = 6 #Jumlah Konektor\r\n",
        "L_connector = 0.3 #Loss dari konektor (dB)\r\n",
        "L_splitter = 13.5 + 19.5 #loss dari splitter (dB) diambil redaman yang paling kecil, milik 1:32\r\n",
        "Pt = 3 #Daya tx (dBm)"
      ],
      "execution_count": 35,
      "outputs": []
    },
    {
      "cell_type": "code",
      "metadata": {
        "colab": {
          "base_uri": "https://localhost:8080/"
        },
        "id": "qa0UoXJhNzE0",
        "outputId": "e0896c5d-e415-4639-c8b5-eda60e533378"
      },
      "source": [
        "#RUMUS PR\r\n",
        "def P_receive():\r\n",
        "  #Pr,Pt (dBm)\r\n",
        "  #L_fiber,N_splitter,L_splicer,N_connector,L_connector,L_splitter (dB)\r\n",
        "\r\n",
        "  hambatan_fiber = d * L_fiber\r\n",
        "  hambatan_splicer = N_splicer * L_splicer\r\n",
        "  hambatan_connector = N_connector * L_connector\r\n",
        "\r\n",
        "  alfa_total = hambatan_fiber + hambatan_splicer + hambatan_connector + L_splitter + SM\r\n",
        "  Pr = Pt - alfa_total\r\n",
        "  return Pr\r\n",
        "\r\n",
        "Pr = P_receive()\r\n",
        "print('Daya Terima = ', Pr)"
      ],
      "execution_count": 36,
      "outputs": [
        {
          "output_type": "stream",
          "text": [
            "Daya Terima =  [-35.63675 -35.98675 -36.33675 -36.68675 -37.03675 -37.38675 -37.73675\n",
            " -38.08675 -38.43675 -38.78675 -39.13675 -39.48675 -39.83675 -40.18675\n",
            " -40.53675 -40.88675 -41.23675 -41.58675 -41.93675 -42.28675 -42.63675]\n"
          ],
          "name": "stdout"
        }
      ]
    },
    {
      "cell_type": "code",
      "metadata": {
        "colab": {
          "base_uri": "https://localhost:8080/"
        },
        "id": "B2G7HIRjN3y5",
        "outputId": "0b654e33-bfd0-4687-8b42-54a89c49b10d"
      },
      "source": [
        "#Arus Primer\r\n",
        "def arus_primer():\r\n",
        "  Pr_num = LtN(Pr)\r\n",
        "  ip = Pr_num * R\r\n",
        "  return ip\r\n",
        "ip = arus_primer()\r\n",
        "print(\"Ip = \", ip)"
      ],
      "execution_count": 37,
      "outputs": [
        {
          "output_type": "stream",
          "text": [
            "Ip =  [2.32136764e-04 2.14162745e-04 1.97580430e-04 1.82282059e-04\n",
            " 1.68168219e-04 1.55147194e-04 1.43134368e-04 1.32051678e-04\n",
            " 1.21827105e-04 1.12394207e-04 1.03691684e-04 9.56629845e-05\n",
            " 8.82559361e-05 8.14224049e-05 7.51179843e-05 6.93017060e-05\n",
            " 6.39357738e-05 5.89853181e-05 5.44181691e-05 5.02046479e-05\n",
            " 4.63173737e-05]\n"
          ],
          "name": "stdout"
        }
      ]
    },
    {
      "cell_type": "code",
      "metadata": {
        "colab": {
          "base_uri": "https://localhost:8080/"
        },
        "id": "8NWRZeh1N5XF",
        "outputId": "021e00a6-0929-4c3b-e773-91ba1eacae9f"
      },
      "source": [
        "#Signal Power\r\n",
        "def signal_power():\r\n",
        "  Is_kuadrat = (ip*M)**2\r\n",
        "  return Is_kuadrat\r\n",
        "Is_kuadrat = signal_power()\r\n",
        "print('Is^2 = ', Is_kuadrat)"
      ],
      "execution_count": 38,
      "outputs": [
        {
          "output_type": "stream",
          "text": [
            "Is^2 =  [2.85064754e-09 2.42629455e-09 2.06511159e-09 1.75769502e-09\n",
            " 1.49604110e-09 1.27333748e-09 1.08378597e-09 9.22451462e-10\n",
            " 7.85133528e-10 6.68257010e-10 5.68778961e-10 4.84109409e-10\n",
            " 4.12043933e-10 3.50706264e-10 2.98499442e-10 2.54064229e-10\n",
            " 2.16243730e-10 1.84053264e-10 1.56654734e-10 1.33334803e-10\n",
            " 1.13486323e-10]\n"
          ],
          "name": "stdout"
        }
      ]
    },
    {
      "cell_type": "code",
      "metadata": {
        "colab": {
          "base_uri": "https://localhost:8080/"
        },
        "id": "FZGC4FjQN8uh",
        "outputId": "03da64d3-4420-45bd-f0a5-3f017be32556"
      },
      "source": [
        "#RUMUS SNR\r\n",
        "def SNR():\r\n",
        "  BDC = 2*q*id*B*(M**2)*F #Dark Current (Numerik)\r\n",
        "  SN = 2*q*ip*B*(M**2)*F #Shot Noise (Numerik)\r\n",
        "  NT = (4*K*Teff*B)/RL #Noise Thermal (Numerik)\r\n",
        "  Signal = Is_kuadrat # (Numerik)\r\n",
        "  Noise = BDC + SN + NT # (Numerik)\r\n",
        "\r\n",
        "  SNR = Signal / Noise\r\n",
        "  SNR_dBm = NtL(SNR)\r\n",
        "  return SNR_dBm\r\n",
        "\r\n",
        "SNR = SNR()\r\n",
        "print(SNR)"
      ],
      "execution_count": 39,
      "outputs": [
        {
          "output_type": "stream",
          "text": [
            "[30.22365438 29.52756047 28.83116724 28.1344974  27.43757197 26.74041042\n",
            " 26.04303073 25.34544957 24.64768231 23.94974319 23.25164536 22.553401\n",
            " 21.85502133 21.15651673 20.4578968  19.75917041 19.06034573 18.36143033\n",
            " 17.6624312  16.96335477 16.264207  ]\n"
          ],
          "name": "stdout"
        }
      ]
    },
    {
      "cell_type": "code",
      "metadata": {
        "colab": {
          "base_uri": "https://localhost:8080/"
        },
        "id": "tkcfY1PcN_ji",
        "outputId": "261a7f4a-9b40-4acc-af0b-8e588740620f"
      },
      "source": [
        "#RUMUS Q\r\n",
        "def Q_rumus():\r\n",
        "  Q_rumus = 0.5*(10**(SNR/20))\r\n",
        "  return Q_rumus\r\n",
        "Q = Q_rumus()\r\n",
        "print(Q)"
      ],
      "execution_count": 40,
      "outputs": [
        {
          "output_type": "stream",
          "text": [
            "[16.22380521 14.97435166 13.82064674 12.75542326 11.77195526 10.86401922\n",
            " 10.02585781  9.25214611  8.53796007  7.87874716  7.27029901  6.70872599\n",
            "  6.19043361  5.71210051  5.27065809  4.8632716   4.48732258  4.14039257\n",
            "  3.82024806  3.52482648  3.25222328]\n"
          ],
          "name": "stdout"
        }
      ]
    },
    {
      "cell_type": "code",
      "metadata": {
        "colab": {
          "base_uri": "https://localhost:8080/"
        },
        "id": "k7L1QD-4OCSB",
        "outputId": "0aaec405-8582-4bc9-979b-28f128c04604"
      },
      "source": [
        "#RUMUS BER\r\n",
        "pengkali_list = []\r\n",
        "def BER_rumus():\r\n",
        "  akar = 1/(Q * m.sqrt(2 * m.pi))\r\n",
        "  for i in range(len(Q)):\r\n",
        "    pengkali = m.exp(-(Q[i]**2)/2)\r\n",
        "    pengkali_list.append(pengkali)\r\n",
        "  BER = (1/akar)*(pengkali_list)\r\n",
        "  return BER\r\n",
        "BER = BER_rumus()\r\n",
        "print(BER)"
      ],
      "execution_count": 41,
      "outputs": [
        {
          "output_type": "stream",
          "text": [
            "[2.84128259e-56 7.64275402e-48 1.15415419e-40 1.49537497e-34\n",
            " 2.38729499e-29 6.39531312e-25 3.74147756e-21 5.98479393e-18\n",
            " 3.17039416e-15 6.54947718e-13 6.06508253e-11 2.83519639e-09\n",
            " 7.40303646e-08 1.17702467e-06 1.22642185e-05 8.91620164e-05\n",
            " 4.77074819e-04 1.96611416e-03 6.48739809e-03 1.77134485e-02\n",
            " 4.11636062e-02]\n"
          ],
          "name": "stdout"
        }
      ]
    },
    {
      "cell_type": "code",
      "metadata": {
        "colab": {
          "base_uri": "https://localhost:8080/",
          "height": 851
        },
        "id": "o9eAJwpPOIwd",
        "outputId": "23c2d9d4-8f83-4025-fb1d-8e6c4f34811e"
      },
      "source": [
        "#GRAFIK\r\n",
        "def grafik_1():\r\n",
        "  plt.figure()\r\n",
        "  plt.plot(d,SNR,'r')\r\n",
        "  plt.title('Perbandingan SNR dengan Jarak')\r\n",
        "  plt.xlabel('Jarak (Km)')\r\n",
        "  plt.ylabel('SNR (dB)')\r\n",
        "  plt.show()\r\n",
        "\r\n",
        "def grafik_2():\r\n",
        "  plt.figure()\r\n",
        "  plt.plot(d,Q,'g')\r\n",
        "  plt.title('Perbandingan Q dengan Jarak')\r\n",
        "  plt.xlabel('Jarak (Km)')\r\n",
        "  plt.ylabel('Q')\r\n",
        "  plt.show()\r\n",
        "\r\n",
        "def grafik_3():\r\n",
        "  plt.figure()\r\n",
        "  plt.plot(d,BER,'b')\r\n",
        "  plt.title('Perbandingan BER dengan Jarak')\r\n",
        "  plt.xlabel('Jarak (Km)')\r\n",
        "  plt.ylabel('BER')\r\n",
        "  plt.show()\r\n",
        "\r\n",
        "grafik_1()\r\n",
        "grafik_2()\r\n",
        "grafik_3()"
      ],
      "execution_count": 42,
      "outputs": [
        {
          "output_type": "display_data",
          "data": {
            "image/png": "[encoded data removed]",
            "text/plain": [
              "<Figure size 432x288 with 1 Axes>"
            ]
          },
          "metadata": {
            "tags": [],
            "needs_background": "light"
          }
        },
        {
          "output_type": "display_data",
          "data": {
            "image/png": "[encoded data removed]",
            "text/plain": [
              "<Figure size 432x288 with 1 Axes>"
            ]
          },
          "metadata": {
            "tags": [],
            "needs_background": "light"
          }
        },
        {
          "output_type": "display_data",
          "data": {
            "image/png": "[encoded data removed]",
            "text/plain": [
              "<Figure size 432x288 with 1 Axes>"
            ]
          },
          "metadata": {
            "tags": [],
            "needs_background": "light"
          }
        }
      ]
    }
  ]
}